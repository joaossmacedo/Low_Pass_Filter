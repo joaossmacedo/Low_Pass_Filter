{
 "cells": [
  {
   "cell_type": "markdown",
   "metadata": {},
   "source": [
    "https://stackoverflow.com/questions/24920346/filtering-a-wav-file-using-python"
   ]
  },
  {
   "cell_type": "markdown",
   "metadata": {},
   "source": [
    "## Imports"
   ]
  },
  {
   "cell_type": "code",
   "execution_count": 1,
   "metadata": {},
   "outputs": [],
   "source": [
    "import matplotlib.pyplot as plt\n",
    "import numpy as np\n",
    "import wave\n",
    "import sys\n",
    "import math\n",
    "import contextlib\n",
    "import numpy as np\n",
    "import wave\n",
    "import struct"
   ]
  },
  {
   "cell_type": "markdown",
   "metadata": {},
   "source": [
    "## Set files"
   ]
  },
  {
   "cell_type": "code",
   "execution_count": 2,
   "metadata": {},
   "outputs": [],
   "source": [
    "fname = \"Feel_It_Still.wav\"\n",
    "outname = 'filtered.wav'"
   ]
  },
  {
   "cell_type": "markdown",
   "metadata": {},
   "source": [
    "## Create fake .wav"
   ]
  },
  {
   "cell_type": "code",
   "execution_count": 3,
   "metadata": {},
   "outputs": [],
   "source": [
    "def create_wav():\n",
    "    freq = 440.0\n",
    "    data_size = 40000\n",
    "    frate = 11025.0  \n",
    "    amp = 64000.0    \n",
    "\n",
    "    sine_list_x = []\n",
    "    for x in range(data_size):\n",
    "        sine_list_x.append(np.sin(2*np.pi*freq*(x/frate)))\n",
    "\n",
    "    wav_file = wave.open(fname, \"w\")\n",
    "\n",
    "    nchannels = 1\n",
    "    sampwidth = 2\n",
    "    framerate = int(frate)\n",
    "    nframes = data_size\n",
    "    comptype = \"NONE\"\n",
    "    compname = \"not compressed\"\n",
    "\n",
    "    wav_file.setparams((nchannels, sampwidth, framerate, nframes,\n",
    "    comptype, compname))\n",
    "\n",
    "    for s in sine_list_x:\n",
    "        wav_file.writeframes(struct.pack('h', int(s*amp/2)))\n",
    "\n",
    "    wav_file.close()\n",
    "    \n",
    "    \n",
    "# create_wav()"
   ]
  },
  {
   "cell_type": "markdown",
   "metadata": {},
   "source": [
    "## Function to interprete .wav"
   ]
  },
  {
   "cell_type": "code",
   "execution_count": 4,
   "metadata": {},
   "outputs": [],
   "source": [
    "# http://stackoverflow.com/questions/2226853/interpreting-wav-data/2227174#2227174\n",
    "def interpret_wav(raw_bytes, n_frames, n_channels, sample_width, interleaved = True):\n",
    "    \"\"\"\n",
    "    Given a file-like object or file path representing a wave file,\n",
    "    decompose it into its constituent PCM data streams.\n",
    "\n",
    "    Input: A file like object or file path\n",
    "    Output: A list of lists of integers representing the PCM coded data stream channels\n",
    "        and the sample rate of the channels (mixed rate channels not supported)\n",
    "    \"\"\"\n",
    "    if sample_width == 1:\n",
    "        dtype = np.uint8 # unsigned char\n",
    "    elif sample_width == 2:\n",
    "        dtype = np.int16 # signed 2-byte short\n",
    "    else:\n",
    "        raise ValueError(\"Only supports 8 and 16 bit audio formats.\")\n",
    "\n",
    "    channels = np.frombuffer(raw_bytes, dtype=dtype)\n",
    "\n",
    "    if interleaved:\n",
    "        # channels are interleaved, i.e. sample N of channel M follows sample N of channel M-1 in raw data\n",
    "        channels.shape = (n_frames, n_channels)\n",
    "        channels = channels.T\n",
    "    else:\n",
    "        # channels are not interleaved. All samples from channel M occur before all samples from channel M-1\n",
    "        channels.shape = (n_channels, n_frames)\n",
    "\n",
    "    return channels"
   ]
  },
  {
   "cell_type": "markdown",
   "metadata": {},
   "source": [
    "## Running mean"
   ]
  },
  {
   "cell_type": "code",
   "execution_count": 5,
   "metadata": {},
   "outputs": [],
   "source": [
    "# http://stackoverflow.com/questions/13728392/moving-average-or-running-mean\n",
    "def running_mean(x, windowSize):\n",
    "  cumsum = np.cumsum(np.insert(x, 0, 0)) \n",
    "  return (cumsum[windowSize:] - cumsum[:-windowSize]) / windowSize"
   ]
  },
  {
   "cell_type": "markdown",
   "metadata": {},
   "source": [
    "## Filter .wav"
   ]
  },
  {
   "cell_type": "code",
   "execution_count": 6,
   "metadata": {},
   "outputs": [],
   "source": [
    "cutOffFrequency = 10.0\n",
    "\n",
    "with contextlib.closing(wave.open(fname,'rb')) as spf:\n",
    "    # sampling frequency\n",
    "    sampleRate = spf.getframerate()\n",
    "    # width in bytes\n",
    "    ampWidth = spf.getsampwidth()\n",
    "    # mono(1) or stereo(2)\n",
    "    nChannels = spf.getnchannels()\n",
    "    # number of audio frames\n",
    "    nFrames = spf.getnframes()\n",
    "\n",
    "    # Extract raw audio from multi-channel .wav file\n",
    "    # returns at most nFrames*nChannels as bytes object\n",
    "    signal = spf.readframes(nFrames*nChannels)\n",
    "    spf.close()\n",
    "    channels = interpret_wav(signal, nFrames, nChannels, ampWidth, True)\n",
    "    \n",
    "    # get window size\n",
    "    # http://dsp.stackexchange.com/questions/9966/what-is-the-cut-off-frequency-of-a-moving-average-filter\n",
    "    freqRatio = (cutOffFrequency/sampleRate)\n",
    "    N = int(math.sqrt(0.196196 + freqRatio**2)/freqRatio)\n",
    "\n",
    "    # Use moving average (only on first channel)\n",
    "    filtered = running_mean(channels[0], N).astype(channels.dtype)\n",
    "\n",
    "    \n",
    "    # Writes the result\n",
    "    wav_file = wave.open(outname, \"w\")\n",
    "    # getcomptype and getcompname returns the compression type\n",
    "    wav_file.setparams((1, ampWidth, sampleRate, nFrames, spf.getcomptype(), spf.getcompname()))\n",
    "    wav_file.writeframes(filtered.tobytes('C'))\n",
    "    wav_file.close()"
   ]
  },
  {
   "cell_type": "markdown",
   "metadata": {},
   "source": [
    "## Print the initial wave"
   ]
  },
  {
   "cell_type": "code",
   "execution_count": 7,
   "metadata": {},
   "outputs": [
    {
     "data": {
      "text/plain": [
       "[<matplotlib.lines.Line2D at 0x1186ce8d0>]"
      ]
     },
     "execution_count": 7,
     "metadata": {},
     "output_type": "execute_result"
    },
    {
     "data": {
      "image/png": "[encoded data removed]",
      "text/plain": [
       "<Figure size 432x288 with 1 Axes>"
      ]
     },
     "metadata": {
      "needs_background": "light"
     },
     "output_type": "display_data"
    }
   ],
   "source": [
    "spf = wave.open(fname,'r')\n",
    "\n",
    "signal = spf.readframes(-1)\n",
    "signal = np.frombuffer(signal, 'int16')\n",
    "\n",
    "fs = spf.getframerate()\n",
    "Time=np.linspace(0, len(signal)/fs, num=len(signal))\n",
    "\n",
    "plt.figure(1)\n",
    "plt.title('Initial Wave')\n",
    "plt.plot(Time, signal)"
   ]
  },
  {
   "cell_type": "markdown",
   "metadata": {},
   "source": [
    "## Print filtered wave"
   ]
  },
  {
   "cell_type": "code",
   "execution_count": 8,
   "metadata": {
    "scrolled": false
   },
   "outputs": [
    {
     "data": {
      "text/plain": [
       "[<matplotlib.lines.Line2D at 0x134770320>]"
      ]
     },
     "execution_count": 8,
     "metadata": {},
     "output_type": "execute_result"
    },
    {
     "data": {
      "image/png": "[encoded data removed]",
      "text/plain": [
       "<Figure size 432x288 with 1 Axes>"
      ]
     },
     "metadata": {
      "needs_background": "light"
     },
     "output_type": "display_data"
    }
   ],
   "source": [
    "spf = wave.open(outname,'r')\n",
    "\n",
    "signal = spf.readframes(-1)\n",
    "signal = np.frombuffer(signal, 'int16')\n",
    "\n",
    "fs = spf.getframerate()\n",
    "Time=np.linspace(0, len(signal)/fs, num=len(signal))\n",
    "\n",
    "plt.figure(1)\n",
    "plt.title('Filtered Wave')\n",
    "plt.plot(Time, signal)"
   ]
  }
 ],
 "metadata": {
  "kernelspec": {
   "display_name": "Python 3",
   "language": "python",
   "name": "python3"
  },
  "language_info": {
   "codemirror_mode": {
    "name": "ipython",
    "version": 3
   },
   "file_extension": ".py",
   "mimetype": "text/x-python",
   "name": "python",
   "nbconvert_exporter": "python",
   "pygments_lexer": "ipython3",
   "version": "3.7.3"
  }
 },
 "nbformat": 4,
 "nbformat_minor": 2
}
